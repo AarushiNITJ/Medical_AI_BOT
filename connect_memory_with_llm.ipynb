{
 "cells": [
  {
   "cell_type": "code",
   "execution_count": null,
   "id": "9603b735-3e22-441b-b1ad-3b4b3098575f",
   "metadata": {},
   "outputs": [],
   "source": []
  },
  {
   "cell_type": "code",
   "execution_count": 2,
   "id": "ae4bbf42-75c6-4f1c-a9fd-c8b17dd7a22b",
   "metadata": {},
   "outputs": [
    {
     "name": "stderr",
     "output_type": "stream",
     "text": [
      "Note: Environment variable`HF_TOKEN` is set and is the current active token independently from the token you've just configured.\n"
     ]
    },
    {
     "name": "stdin",
     "output_type": "stream",
     "text": [
      "Write Query Here:  causes of fybrosis\n"
     ]
    },
    {
     "name": "stderr",
     "output_type": "stream",
     "text": [
      "D:\\apk\\conda\\Lib\\site-packages\\huggingface_hub\\utils\\_deprecation.py:131: FutureWarning: 'post' (from 'huggingface_hub.inference._client') is deprecated and will be removed from version '0.31.0'. Making direct POST requests to the inference server is not supported anymore. Please use task methods instead (e.g. `InferenceClient.chat_completion`). If your use case is not supported, please open an issue in https://github.com/huggingface/huggingface_hub.\n",
      "  warnings.warn(warning_message, FutureWarning)\n"
     ]
    },
    {
     "name": "stdout",
     "output_type": "stream",
     "text": [
      "RESULT:  \n",
      "Causes of fibrosis (Fibromyalgia) are not known exactly, but it is more frequent in women ages 20–50.\n",
      "SOURCE DOCUMENTS:  [Document(id='aa90a00b-7795-4d17-86a3-1e43bd25d3a3', metadata={'producer': 'PyPDF', 'creator': 'PyPDF', 'creationdate': '2010-12-22T13:15:56+00:00', 'author': 'Tierney, Lawrence M.; Saint, Sanjay.; Whooley, Mary A.', 'keywords': '0071637907\\r\\n9780071637909', 'moddate': '2018-08-02T09:28:12+05:30', 'subject': 'McGraw-Hill Medical', 'title': 'Current Essentials of Medicine', 'source': 'data\\\\Current Essentials of Medicine(1)(1).pdf', 'total_pages': 607, 'page': 66, 'page_label': '54'}, page_content='54 Current Essentials of Medicine\\n2\\nIdiopathic Pulmonary Fibrosis\\n■ Essentials of Diagnosis\\n• Insidious onset of exertional dyspnea and dry cough in patients,\\nusually in their sixth or seventh decades\\n• Deﬁnition requires the histopathologic pattern of usual interstitial\\npneumonia\\n• Inspiratory crackles by auscultation; clubbing\\n• Hypoxemia, especially exertional\\n• Predominantly lower lobe, bilateral reticular abnormality by chest\\nx-ray, which may progress to honeycombing pattern'), Document(id='c7627cc0-09af-4da0-acc4-4c197df12fe8', metadata={'producer': 'PyPDF', 'creator': 'PyPDF', 'creationdate': '2010-12-22T13:15:56+00:00', 'author': 'Tierney, Lawrence M.; Saint, Sanjay.; Whooley, Mary A.', 'keywords': '0071637907\\r\\n9780071637909', 'moddate': '2018-08-02T09:28:12+05:30', 'subject': 'McGraw-Hill Medical', 'title': 'Current Essentials of Medicine', 'source': 'data\\\\Current Essentials of Medicine(1)(1).pdf', 'total_pages': 607, 'page': 170, 'page_label': '158'}, page_content='158 Current Essentials of Medicine\\n6\\nFibrositis (Fibromyalgia)\\n■ Essentials of Diagnosis\\n• Most frequent in women ages 20–50\\n• Chronic aching pain and stiffness of trunk and extremities, espe-\\ncially around the neck, shoulder, low back, and hips\\n• Elicit pain with mild palpation (enough pressure to blanch your\\nﬁngernail) at 11 of 18 bilateral tender points: Occiput, low cervi-\\ncal, trapezius, supraspinatus, second rib at costochondral junction,'), Document(id='b7673b9c-78a3-4010-b5d2-1cf09f1f9f83', metadata={'producer': 'PyPDF', 'creator': 'PyPDF', 'creationdate': '2010-12-22T13:15:56+00:00', 'author': 'Tierney, Lawrence M.; Saint, Sanjay.; Whooley, Mary A.', 'keywords': '0071637907\\r\\n9780071637909', 'moddate': '2018-08-02T09:28:12+05:30', 'subject': 'McGraw-Hill Medical', 'title': 'Current Essentials of Medicine', 'source': 'data\\\\Current Essentials of Medicine(1)(1).pdf', 'total_pages': 607, 'page': 516, 'page_label': '504'}, page_content='lation in parenchymal cells\\n■ Differential Diagnosis\\n• Other causes of cirrhosis or heart failure or hypopituitarism\\n• Other causes of iron overload, especially multiple transfusions\\n(> 100 units) as in homozygous beta-thalassemia or sickle cell disease\\n■ Treatment\\n• Genetic screening recommended for all ﬁrst-order relatives\\n• Early recognition and diagnosis (precirrhotic state) is crucial\\n• Low-iron diet; avoid uncooked seafood due to increased suscep-')]\n"
     ]
    }
   ],
   "source": [
    "import os\n",
    "\n",
    "from langchain_huggingface import HuggingFaceEndpoint\n",
    "from langchain_core.prompts import PromptTemplate\n",
    "from langchain.chains import RetrievalQA\n",
    "from langchain_huggingface import HuggingFaceEmbeddings\n",
    "from langchain_community.vectorstores import FAISS\n",
    "\n",
    "## Uncomment the following files if you're not using pipenv as your virtual environment manager\n",
    "from dotenv import load_dotenv, find_dotenv\n",
    "load_dotenv(find_dotenv())\n",
    "\n",
    "\n",
    "# Step 1: Setup LLM (Mistral with HuggingFace)\n",
    "HF_TOKEN=os.environ.get(\"HF_TOKEN\")\n",
    "HUGGINGFACE_REPO_ID=\"mistralai/Mistral-7B-Instruct-v0.3\"\n",
    "\n",
    "def load_llm(huggingface_repo_id):\n",
    "    llm=HuggingFaceEndpoint(\n",
    "        repo_id=huggingface_repo_id,\n",
    "        temperature=0.5,\n",
    "        model_kwargs={\"token\":HF_TOKEN,\n",
    "                      \"max_length\":\"512\"}\n",
    "    )\n",
    "    return llm\n",
    "\n",
    "# Step 2: Connect LLM with FAISS and Create chain\n",
    "\n",
    "CUSTOM_PROMPT_TEMPLATE = \"\"\"\n",
    "Use the pieces of information provided in the context to answer user's question.\n",
    "If you dont know the answer, just say that you dont know, dont try to make up an answer. \n",
    "Dont provide anything out of the given context\n",
    "\n",
    "Context: {context}\n",
    "Question: {question}\n",
    "\n",
    "Start the answer directly. No small talk please.\n",
    "\"\"\"\n",
    "\n",
    "def set_custom_prompt(custom_prompt_template):\n",
    "    prompt=PromptTemplate(template=custom_prompt_template, input_variables=[\"context\", \"question\"])\n",
    "    return prompt\n",
    "\n",
    "# Load Database\n",
    "DB_FAISS_PATH=\"vectorstore/db_faiss\"\n",
    "embedding_model=HuggingFaceEmbeddings(model_name=\"sentence-transformers/all-MiniLM-L6-v2\")\n",
    "db=FAISS.load_local(DB_FAISS_PATH, embedding_model, allow_dangerous_deserialization=True)\n",
    "\n",
    "# Create QA chain\n",
    "qa_chain=RetrievalQA.from_chain_type(\n",
    "    llm=load_llm(HUGGINGFACE_REPO_ID),\n",
    "    chain_type=\"stuff\",\n",
    "    retriever=db.as_retriever(search_kwargs={'k':3}),\n",
    "    return_source_documents=True,\n",
    "    chain_type_kwargs={'prompt':set_custom_prompt(CUSTOM_PROMPT_TEMPLATE)}\n",
    ")\n",
    "\n",
    "# Now invoke with a single query\n",
    "user_query=input(\"Write Query Here: \")\n",
    "response=qa_chain.invoke({'query': user_query})\n",
    "print(\"RESULT: \", response[\"result\"])\n",
    "print(\"SOURCE DOCUMENTS: \", response[\"source_documents\"])"
   ]
  },
  {
   "cell_type": "code",
   "execution_count": null,
   "id": "b03feeda-b06e-4090-9d61-186953a761a3",
   "metadata": {},
   "outputs": [],
   "source": []
  }
 ],
 "metadata": {
  "kernelspec": {
   "display_name": "Python [conda env:base] *",
   "language": "python",
   "name": "conda-base-py"
  },
  "language_info": {
   "codemirror_mode": {
    "name": "ipython",
    "version": 3
   },
   "file_extension": ".py",
   "mimetype": "text/x-python",
   "name": "python",
   "nbconvert_exporter": "python",
   "pygments_lexer": "ipython3",
   "version": "3.12.7"
  }
 },
 "nbformat": 4,
 "nbformat_minor": 5
}
